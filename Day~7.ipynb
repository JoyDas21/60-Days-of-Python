{
  "nbformat": 4,
  "nbformat_minor": 0,
  "metadata": {
    "colab": {
      "provenance": [],
      "authorship_tag": "ABX9TyNXP33eDlFsnOKron7Q7Yze",
      "include_colab_link": true
    },
    "kernelspec": {
      "name": "python3",
      "display_name": "Python 3"
    },
    "language_info": {
      "name": "python"
    }
  },
  "cells": [
    {
      "cell_type": "markdown",
      "metadata": {
        "id": "view-in-github",
        "colab_type": "text"
      },
      "source": [
        "<a href=\"https://colab.research.google.com/github/JoyDas21/60-Days-of-Python/blob/main/Day~7.ipynb\" target=\"_parent\"><img src=\"https://colab.research.google.com/assets/colab-badge.svg\" alt=\"Open In Colab\"/></a>"
      ]
    },
    {
      "cell_type": "markdown",
      "source": [
        "LOOP\n"
      ],
      "metadata": {
        "id": "Jxa8uzYjer5x"
      }
    },
    {
      "cell_type": "markdown",
      "source": [
        "for Loop"
      ],
      "metadata": {
        "id": "OJUpJ9dDeysa"
      }
    },
    {
      "cell_type": "code",
      "execution_count": 15,
      "metadata": {
        "colab": {
          "base_uri": "https://localhost:8080/"
        },
        "id": "WqCRt3TYdxFt",
        "outputId": "5a6f70ce-102f-43cb-c5c3-82d85e15ae7c"
      },
      "outputs": [
        {
          "output_type": "stream",
          "name": "stdout",
          "text": [
            "AI\n",
            "Data Science\n",
            "Statistics\n",
            "Math\n"
          ]
        }
      ],
      "source": [
        "subject = ['AI', 'Data Science', 'Statistics', 'Math']\n",
        "for x in subject:\n",
        "  print(x)"
      ]
    },
    {
      "cell_type": "code",
      "source": [
        "data ='python'\n",
        "data[0]"
      ],
      "metadata": {
        "colab": {
          "base_uri": "https://localhost:8080/",
          "height": 35
        },
        "id": "Krqn40yif9uz",
        "outputId": "a4b964b3-30f4-48fe-dde7-f471b1505e9d"
      },
      "execution_count": 16,
      "outputs": [
        {
          "output_type": "execute_result",
          "data": {
            "text/plain": [
              "'p'"
            ],
            "application/vnd.google.colaboratory.intrinsic+json": {
              "type": "string"
            }
          },
          "metadata": {},
          "execution_count": 16
        }
      ]
    },
    {
      "cell_type": "code",
      "source": [
        "data[-1]"
      ],
      "metadata": {
        "colab": {
          "base_uri": "https://localhost:8080/",
          "height": 35
        },
        "id": "xNVN5QfLgCr5",
        "outputId": "3784353d-f5f2-495b-ea0d-2e41f9fcd668"
      },
      "execution_count": 17,
      "outputs": [
        {
          "output_type": "execute_result",
          "data": {
            "text/plain": [
              "'n'"
            ],
            "application/vnd.google.colaboratory.intrinsic+json": {
              "type": "string"
            }
          },
          "metadata": {},
          "execution_count": 17
        }
      ]
    },
    {
      "cell_type": "code",
      "source": [
        "for x in data:\n",
        "  print(x)"
      ],
      "metadata": {
        "colab": {
          "base_uri": "https://localhost:8080/"
        },
        "id": "8wlb3eFngFh5",
        "outputId": "0331d26e-6199-4c65-8b3e-57fc364f0315"
      },
      "execution_count": 18,
      "outputs": [
        {
          "output_type": "stream",
          "name": "stdout",
          "text": [
            "p\n",
            "y\n",
            "t\n",
            "h\n",
            "o\n",
            "n\n"
          ]
        }
      ]
    },
    {
      "cell_type": "code",
      "source": [
        "range(10)"
      ],
      "metadata": {
        "colab": {
          "base_uri": "https://localhost:8080/"
        },
        "id": "uYhkNsfPgNZD",
        "outputId": "6c8f8078-3db5-4ea5-a5c4-cbadf28b628c"
      },
      "execution_count": 19,
      "outputs": [
        {
          "output_type": "execute_result",
          "data": {
            "text/plain": [
              "range(0, 10)"
            ]
          },
          "metadata": {},
          "execution_count": 19
        }
      ]
    },
    {
      "cell_type": "code",
      "source": [
        "for x in range(len(data)):\n",
        "  print(data[x])"
      ],
      "metadata": {
        "colab": {
          "base_uri": "https://localhost:8080/"
        },
        "id": "7sGbA7GzgggS",
        "outputId": "3b52775e-c1e3-41ef-d0aa-bac29f1b086b"
      },
      "execution_count": 20,
      "outputs": [
        {
          "output_type": "stream",
          "name": "stdout",
          "text": [
            "p\n",
            "y\n",
            "t\n",
            "h\n",
            "o\n",
            "n\n"
          ]
        }
      ]
    },
    {
      "cell_type": "code",
      "source": [
        "for x in range(len(data)):\n",
        "  print(data[x])"
      ],
      "metadata": {
        "colab": {
          "base_uri": "https://localhost:8080/"
        },
        "id": "VMV1In5DhGkb",
        "outputId": "3080f25f-6f5f-4423-ab49-b5647f5b745a"
      },
      "execution_count": 21,
      "outputs": [
        {
          "output_type": "stream",
          "name": "stdout",
          "text": [
            "p\n",
            "y\n",
            "t\n",
            "h\n",
            "o\n",
            "n\n"
          ]
        }
      ]
    },
    {
      "cell_type": "code",
      "source": [
        "data = 'My name is Joy Das'\n",
        "for x in range(len(data)):\n",
        "  print(data[x])"
      ],
      "metadata": {
        "colab": {
          "base_uri": "https://localhost:8080/"
        },
        "id": "7l2SU_kAh0pV",
        "outputId": "6f3185c1-b5ce-4e3c-abde-dc50a6dd5af3"
      },
      "execution_count": 23,
      "outputs": [
        {
          "output_type": "stream",
          "name": "stdout",
          "text": [
            "M\n",
            "y\n",
            " \n",
            "n\n",
            "a\n",
            "m\n",
            "e\n",
            " \n",
            "i\n",
            "s\n",
            " \n",
            "J\n",
            "o\n",
            "y\n",
            " \n",
            "D\n",
            "a\n",
            "s\n"
          ]
        }
      ]
    },
    {
      "cell_type": "code",
      "source": [
        "data = 'My name is Joy Das'\n",
        "data=data.split()\n",
        "for x in range(len(data)):\n",
        "  print(data[x])"
      ],
      "metadata": {
        "colab": {
          "base_uri": "https://localhost:8080/"
        },
        "id": "O0-wW_1BgmrS",
        "outputId": "8b31e88e-8f3a-49d7-eb6c-fccd3e7b4261"
      },
      "execution_count": 22,
      "outputs": [
        {
          "output_type": "stream",
          "name": "stdout",
          "text": [
            "My\n",
            "name\n",
            "is\n",
            "Joy\n",
            "Das\n"
          ]
        }
      ]
    },
    {
      "cell_type": "code",
      "source": [
        "data = 'My name is Joy Das' ##How many times loop run.\n",
        "data=data.split()\n",
        "for x in range(len(data)):\n",
        "  print(data[x],x)"
      ],
      "metadata": {
        "colab": {
          "base_uri": "https://localhost:8080/"
        },
        "id": "aVj1VO8shNOZ",
        "outputId": "729ea18b-e11d-4435-d04a-67e109063fa0"
      },
      "execution_count": 24,
      "outputs": [
        {
          "output_type": "stream",
          "name": "stdout",
          "text": [
            "My 0\n",
            "name 1\n",
            "is 2\n",
            "Joy 3\n",
            "Das 4\n"
          ]
        }
      ]
    },
    {
      "cell_type": "code",
      "source": [
        "n = [1,2,3,4,5]\n",
        "total = 0\n",
        "for x in n:\n",
        "  total = total + x\n",
        "  print(total,x)\n",
        "print('Total is : ',total)\n"
      ],
      "metadata": {
        "colab": {
          "base_uri": "https://localhost:8080/"
        },
        "id": "CzRcpnmrh-QJ",
        "outputId": "891b3d3b-4a44-4570-e9e8-ec44e49e6648"
      },
      "execution_count": 26,
      "outputs": [
        {
          "output_type": "stream",
          "name": "stdout",
          "text": [
            "1 1\n",
            "3 2\n",
            "6 3\n",
            "10 4\n",
            "15 5\n",
            "Total is :  15\n"
          ]
        }
      ]
    },
    {
      "cell_type": "code",
      "source": [
        "for i in range(10):\n",
        "  print(i,'.','Data Scienace')"
      ],
      "metadata": {
        "colab": {
          "base_uri": "https://localhost:8080/"
        },
        "id": "o02VsihUjELi",
        "outputId": "e6ad2a2a-bcf0-4559-de01-60ba38a6be81"
      },
      "execution_count": 30,
      "outputs": [
        {
          "output_type": "stream",
          "name": "stdout",
          "text": [
            "0 . Data Scienace\n",
            "1 . Data Scienace\n",
            "2 . Data Scienace\n",
            "3 . Data Scienace\n",
            "4 . Data Scienace\n",
            "5 . Data Scienace\n",
            "6 . Data Scienace\n",
            "7 . Data Scienace\n",
            "8 . Data Scienace\n",
            "9 . Data Scienace\n"
          ]
        }
      ]
    },
    {
      "cell_type": "code",
      "source": [
        "for i in range(5,10): #n-1\n",
        "  print('Data Science',i)"
      ],
      "metadata": {
        "colab": {
          "base_uri": "https://localhost:8080/"
        },
        "id": "3paHHmtGjpJ5",
        "outputId": "1cd78ed0-823c-49d7-8950-cf5ffe605993"
      },
      "execution_count": 31,
      "outputs": [
        {
          "output_type": "stream",
          "name": "stdout",
          "text": [
            "Data Science 5\n",
            "Data Science 6\n",
            "Data Science 7\n",
            "Data Science 8\n",
            "Data Science 9\n"
          ]
        }
      ]
    },
    {
      "cell_type": "code",
      "source": [
        "for i in range(1,10,2): #i = i+2\n",
        "  print('Data Science',i)"
      ],
      "metadata": {
        "colab": {
          "base_uri": "https://localhost:8080/"
        },
        "id": "gUHIPRw1kLCJ",
        "outputId": "603d251d-dcf3-4cd6-f022-3d15258f93b5"
      },
      "execution_count": 32,
      "outputs": [
        {
          "output_type": "stream",
          "name": "stdout",
          "text": [
            "Data Science 1\n",
            "Data Science 3\n",
            "Data Science 5\n",
            "Data Science 7\n",
            "Data Science 9\n"
          ]
        }
      ]
    },
    {
      "cell_type": "code",
      "source": [
        "for i in range(10,-10,-2):\n",
        "  print('Data Science',i)"
      ],
      "metadata": {
        "colab": {
          "base_uri": "https://localhost:8080/"
        },
        "id": "7Go67WDkkYNw",
        "outputId": "f5795f8e-bbfe-4484-e474-cfcd904bd67b"
      },
      "execution_count": 36,
      "outputs": [
        {
          "output_type": "stream",
          "name": "stdout",
          "text": [
            "Data Science 10\n",
            "Data Science 8\n",
            "Data Science 6\n",
            "Data Science 4\n",
            "Data Science 2\n",
            "Data Science 0\n",
            "Data Science -2\n",
            "Data Science -4\n",
            "Data Science -6\n",
            "Data Science -8\n"
          ]
        }
      ]
    }
  ]
}